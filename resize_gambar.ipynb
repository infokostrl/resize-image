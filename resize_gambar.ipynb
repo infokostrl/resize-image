{
 "metadata": {
  "language_info": {
   "codemirror_mode": {
    "name": "ipython",
    "version": 3
   },
   "file_extension": ".py",
   "mimetype": "text/x-python",
   "name": "python",
   "nbconvert_exporter": "python",
   "pygments_lexer": "ipython3",
   "version": "3.9.1"
  },
  "orig_nbformat": 4,
  "kernelspec": {
   "name": "python3",
   "display_name": "Python 3.9.1 64-bit"
  },
  "interpreter": {
   "hash": "21d47e4b056c79dcfaf9e9778359ef0c33da63cf283a8179b63a703bf48c2982"
  }
 },
 "nbformat": 4,
 "nbformat_minor": 2,
 "cells": [
  {
   "source": [
    "# Resize gambar untuk InfoKost\n",
    "Tujuan untuk membuat gambar dengan ukuran besar menjadi kecil dan memiliki width dan height yang konsisten\n",
    "\n",
    "**Cara menggunakan : **<br>\n",
    "1. Jalankan kode pertama<br>\n",
    "2. Isi file gambar ke folder source_gambar<br>\n",
    "3. Jalankan kode selanjutnya sampai akhir<br>\n",
    "\n",
    "<br>\n",
    "\n",
    "**KKN GEL. 106 GOWA 7 UNHAS (Program kerja individu)**\n",
    "- Dandy Garda Dirgantara\n",
    "- Darul Ikhsan"
   ],
   "cell_type": "markdown",
   "metadata": {}
  },
  {
   "cell_type": "code",
   "execution_count": 29,
   "metadata": {},
   "outputs": [],
   "source": [
    "# Import library\n",
    "from PIL import Image\n",
    "import os\n",
    "\n",
    "# Membuat folder source_gambar dan hasil\n",
    "os.mkdir('source_gambar')\n",
    "os.mkdir('hasil')"
   ]
  },
  {
   "cell_type": "code",
   "execution_count": 31,
   "metadata": {},
   "outputs": [
    {
     "output_type": "stream",
     "name": "stdout",
     "text": [
      "['ernias1.JPG', 'ernias2.JPG', 'ernias3.JPG', 'ernias4.JPG', 'ernias5.JPG']\n"
     ]
    }
   ],
   "source": [
    "# Menentukan direktori gambar\n",
    "# r pada img_path adalah raw string\n",
    "img_path = r'source_gambar/'\n",
    "img_path_list = os.listdir(img_path)\n",
    "\n",
    "# Melihat isi folder\n",
    "print(img_path_list)"
   ]
  },
  {
   "cell_type": "code",
   "execution_count": 32,
   "metadata": {},
   "outputs": [],
   "source": [
    "# Melakukan resize gambar\n",
    "for img in img_path_list:\n",
    "    path = img_path + img\n",
    "    image = Image.open(path)\n",
    "    rsz_image = image.resize((1280, 720))\n",
    "\n",
    "    # Simpan\n",
    "    img_name = os.path.splitext(img)\n",
    "    rsz_image.save('hasil/'+img_name[0]+img_name[1])"
   ]
  }
 ]
}